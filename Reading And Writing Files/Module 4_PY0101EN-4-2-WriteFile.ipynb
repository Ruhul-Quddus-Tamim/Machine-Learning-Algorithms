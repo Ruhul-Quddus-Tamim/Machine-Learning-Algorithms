{
  "metadata": {
    "interpreter": {
      "hash": "aee8b7b246df8f9039afb4144a1f6fd8d2ca17a180786b69acc140d282b71a49"
    },
    "kernelspec": {
      "name": "python",
      "display_name": "Pyolite",
      "language": "python"
    },
    "language_info": {
      "codemirror_mode": {
        "name": "python",
        "version": 3
      },
      "file_extension": ".py",
      "mimetype": "text/x-python",
      "name": "python",
      "nbconvert_exporter": "python",
      "pygments_lexer": "ipython3",
      "version": "3.8"
    }
  },
  "nbformat_minor": 4,
  "nbformat": 4,
  "cells": [
    {
      "cell_type": "markdown",
      "source": "<hr>\n<h2 id=\"add\">Additional modes</h2> \n",
      "metadata": {}
    },
    {
      "cell_type": "markdown",
      "source": "It's fairly ineffecient to open the file in **a** or **w** and then reopening it in **r** to read any lines. Luckily we can access the file in the following modes:\n\n*   **r+** : Reading and writing. Cannot truncate the file.\n*   **w+** : Writing and reading. Truncates the file.\n*   **a+** : Appending and Reading. Creates a new file, if none exists.\n\nYou dont have to dwell on the specifics of each mode for this lab.\n",
      "metadata": {}
    },
    {
      "cell_type": "markdown",
      "source": "<h2> Automation With Python </h2>\n",
      "metadata": {}
    },
    {
      "cell_type": "markdown",
      "source": "Your local university's Raptors fan club maintains a register of its active members on a .txt document. Every month they update the file by removing the members who are not active. You have been tasked with automating this with your Python skills. <br>\nGiven the file `currentMem`, Remove each member with a 'no' in their Active column. Keep track of each of the removed members and append them to the `exMem` file. Make sure that the format of the original files in preserved.   (*Hint: Do this by reading/writing whole lines and ensuring the header remains* ) <br>\nRun the code block below prior to starting the exercise. The skeleton code has been provided for you. Edit only the `cleanFiles` function.\n",
      "metadata": {}
    },
    {
      "cell_type": "code",
      "source": "#Run this prior to starting the exercise\nfrom random import randint as rnd\n\nmemReg = 'members.txt'\nexReg = 'inactive.txt'\nfee =('yes','no')\n\ndef genFiles(current,old):\n    with open(current,'w+') as writefile: \n        writefile.write('Membership No  Date Joined  Active  \\n')\n        data = \"{:^13}  {:<11}  {:<6}\\n\"\n\n        for rowno in range(20):\n            date = str(rnd(2015,2020))+ '-' + str(rnd(1,12))+'-'+str(rnd(1,25))\n            writefile.write(data.format(rnd(10000,99999),date,fee[rnd(0,1)]))\n\n\n    with open(old,'w+') as writefile: \n        writefile.write('Membership No  Date Joined  Active  \\n')\n        data = \"{:^13}  {:<11}  {:<6}\\n\"\n        for rowno in range(3):\n            date = str(rnd(2015,2020))+ '-' + str(rnd(1,12))+'-'+str(rnd(1,25))\n            writefile.write(data.format(rnd(10000,99999),date,fee[1]))\n\n\ngenFiles(memReg,exReg)\n",
      "metadata": {
        "trusted": true
      },
      "execution_count": 15,
      "outputs": []
    },
    {
      "cell_type": "markdown",
      "source": "Now that you've run the prerequisite code cell above, which prepared the files for this exercise, you are ready to move on to the implementation.\n\n#### **Exercise:** Implement the cleanFiles function in the code cell below.\n",
      "metadata": {}
    },
    {
      "cell_type": "code",
      "source": "  \n'''\nThe two arguments for this function are the files:\n    - currentMem: File containing list of current members\n    - exMem: File containing list of old members\n    \n    This function should remove all rows from currentMem containing 'no' \n    in the 'Active' column and appends them to exMem.\n    '''\ndef cleanFiles(currentMem,exMem):\n    with open(currentMem,'r+') as writeFile: \n        with open(exMem,'a+') as appendFile:\n            #get the data\n            writeFile.seek(0)\n            members = writeFile.readlines()\n            #remove header\n            header = members[0]\n            members.pop(0)\n                \n            inactive = [member for member in members if ('no' in member)]\n            '''\n            The above is the same as \n\n            for member in members:\n            if 'no' in member:\n                inactive.append(member)\n            '''\n            #go to the beginning of the write file\n            writeFile.seek(0) \n            writeFile.write(header)\n            for member in members:\n                if (member in inactive):\n                    appendFile.write(member)\n                else:\n                    writeFile.write(member)      \n            writeFile.truncate()\n                \nmemReg = 'members.txt'\nexReg = 'inactive.txt'\ncleanFiles(memReg,exReg)\n\n\n# The code below is to help you view the files.\n# Do not modify this code for this exercise.\nmemReg = 'members.txt'\nexReg = 'inactive.txt'\ncleanFiles(memReg,exReg)\n\n\nheaders = \"Membership No  Date Joined  Active  \\n\"\nwith open(memReg,'r') as readFile:\n    print(\"Active Members: \\n\\n\")\n    print(readFile.read())\n    \nwith open(exReg,'r') as readFile:\n    print(\"Inactive Members: \\n\\n\")\n    print(readFile.read())\n                \n    ",
      "metadata": {
        "trusted": true
      },
      "execution_count": 20,
      "outputs": [
        {
          "name": "stdout",
          "text": "Active Members: \n\n\nMembership No  Date Joined  Active  \n    44873      2019-5-11    yes   \n    68971      2018-6-7     yes   \n    82442      2017-2-19    yes   \n    35052      2016-6-22    yes   \n    60567      2020-5-11    yes   \n    63295      2016-8-17    yes   \n    52660      2019-1-12    yes   \n    56540      2017-3-12    yes   \n    51236      2015-10-2    yes   \n\nInactive Members: \n\n\nMembership No  Date Joined  Active  \n    59191      2019-5-13    no    \n    56791      2019-9-8     no    \n    30351      2019-1-10    no    \n    84174      2017-1-11    no    \n    69605      2018-1-23    no    \n    39533      2015-8-14    no    \n    88101      2020-10-15   no    \n    50886      2015-7-18    no    \n    19789      2020-2-6     no    \n    91039      2018-9-3     no    \n    40906      2018-4-12    no    \n    10536      2017-11-4    no    \n    46521      2020-12-14   no    \n    31368      2018-5-5     no    \n\n",
          "output_type": "stream"
        }
      ]
    },
    {
      "cell_type": "markdown",
      "source": "The code cell below is to verify your solution. Please do not modify the code and run it to test your implementation of `cleanFiles`.\n",
      "metadata": {}
    },
    {
      "cell_type": "code",
      "source": "def testMsg(passed):\n    if passed:\n       return 'Test Passed'\n    else :\n       return 'Test Failed'\n\ntestWrite = \"testWrite.txt\"\ntestAppend = \"testAppend.txt\" \npassed = True\n\ngenFiles(testWrite,testAppend)\n\nwith open(testWrite,'r') as file:\n    ogWrite = file.readlines()\n\nwith open(testAppend,'r') as file:\n    ogAppend = file.readlines()\n\ntry:\n    cleanFiles(testWrite,testAppend)\nexcept:\n    print('Error')\n\nwith open(testWrite,'r') as file:\n    clWrite = file.readlines()\n\nwith open(testAppend,'r') as file:\n    clAppend = file.readlines()\n        \n# checking if total no of rows is same, including headers\n\nif (len(ogWrite) + len(ogAppend) != len(clWrite) + len(clAppend)):\n    print(\"The number of rows do not add up. Make sure your final files have the same header and format.\")\n    passed = False\n    \nfor line in clWrite:\n    if  'no' in line:\n        passed = False\n        print(\"Inactive members in file\")\n        break\n    else:\n        if line not in ogWrite:\n            print(\"Data in file does not match original file\")\n            passed = False\nprint (\"{}\".format(testMsg(passed)))\n    \n\n",
      "metadata": {
        "trusted": true
      },
      "execution_count": 21,
      "outputs": [
        {
          "name": "stdout",
          "text": "Test Passed\n",
          "output_type": "stream"
        }
      ]
    }
  ]
}